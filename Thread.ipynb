{
 "cells": [
  {
   "cell_type": "code",
   "execution_count": 1,
   "metadata": {},
   "outputs": [],
   "source": [
    "import threading\n",
    "import time"
   ]
  },
  {
   "cell_type": "code",
   "execution_count": 2,
   "metadata": {},
   "outputs": [
    {
     "name": "stdout",
     "output_type": "stream",
     "text": [
      "abc\n"
     ]
    }
   ],
   "source": [
    "import threading\n",
    "\n",
    "def thread_job():\n",
    "    print('abc')\n",
    "\n",
    "added_thread = threading.Thread(target = thread_job)\n",
    "added_thread.start()\n"
   ]
  },
  {
   "cell_type": "code",
   "execution_count": 24,
   "metadata": {},
   "outputs": [
    {
     "name": "stdout",
     "output_type": "stream",
     "text": [
      "This is the second thread  Hello\n",
      "all done\n",
      "This is the first thread  Hi\n"
     ]
    }
   ],
   "source": [
    "def thread_first_job(x):\n",
    "    time.sleep(0.1)\n",
    "    print('This is the first thread ', x)\n",
    "    \n",
    "def thread_second_job(x):\n",
    "    print('This is the second thread ', x)\n",
    "\n",
    "added_first_thread = threading.Thread(target = thread_first_job, args=('Hi',))\n",
    "added_second_thread = threading.Thread(target = thread_second_job, args=('Hello',))\n",
    "added_first_thread.start()\n",
    "added_second_thread.start()\n",
    "\n",
    "print('all done')"
   ]
  },
  {
   "cell_type": "code",
   "execution_count": 35,
   "metadata": {},
   "outputs": [
    {
     "name": "stdout",
     "output_type": "stream",
     "text": [
      "This is the second thread  Hello\n",
      "This is the first thread  Hi\n",
      "all done\n"
     ]
    }
   ],
   "source": [
    "def thread_first_job(x):\n",
    "    time.sleep(0.1)\n",
    "    print('This is the first thread ', x)\n",
    "    \n",
    "def thread_second_job(x):\n",
    "    print('This is the second thread ', x)\n",
    "\n",
    "added_first_thread = threading.Thread(target = thread_first_job, args=('Hi',))\n",
    "added_second_thread = threading.Thread(target = thread_second_job, args=('Hello',))\n",
    "\n",
    "added_first_thread.start()\n",
    "added_second_thread.start()\n",
    "\n",
    "added_first_thread.join()\n",
    "\n",
    "print('all done')"
   ]
  },
  {
   "cell_type": "code",
   "execution_count": 5,
   "metadata": {},
   "outputs": [
    {
     "name": "stdout",
     "output_type": "stream",
     "text": [
      "This is the second thread  Hello\n",
      "This is the first thread  Hi\n"
     ]
    }
   ],
   "source": [
    "import threading\n",
    "import time\n",
    "\n",
    "def thread_first_job(x):\n",
    "    time.sleep(5)\n",
    "    print('This is the first thread ', x)\n",
    "    \n",
    "def thread_second_job(x):\n",
    "    print('This is the second thread ', x)\n",
    "    \n",
    "first_thread = threading.Thread(target = thread_first_job, args=('Hi',))\n",
    "second_thread = threading.Thread(target = thread_second_job, args=('Hello',))\n",
    "\n",
    "second_thread.setDaemon(True)\n",
    "\n",
    "first_thread.start()\n",
    "second_thread.start()"
   ]
  },
  {
   "cell_type": "code",
   "execution_count": 3,
   "metadata": {},
   "outputs": [
    {
     "name": "stdout",
     "output_type": "stream",
     "text": [
      "[[2, 4, 6], [8, 10, 12]]\n"
     ]
    }
   ],
   "source": [
    "import threading\n",
    "from queue import Queue\n",
    "\n",
    "# 將要傳回的值存入 Queue\n",
    "def thread_job(data, q):\n",
    "    for i in range(len(data)):\n",
    "        data[i] = data[i]*2\n",
    "    q.put(data)\n",
    "    \n",
    "def multithread():\n",
    "    data = [[1, 2, 3], [4, 5, 6]]\n",
    "    q = Queue()\n",
    "    all_thread = []\n",
    "    \n",
    "    # 使用 multi-thread\n",
    "    for i in range(len(data)):\n",
    "        thread = threading.Thread(target=thread_job, args=(data[i], q))\n",
    "        thread.start()\n",
    "        all_thread.append(thread)\n",
    "        \n",
    "    # 等待全部 Thread 執行完畢\n",
    "    for t in all_thread:\n",
    "        t.join()\n",
    "\n",
    "    # 使用 q.get() 取出要傳回的值\n",
    "    result = []\n",
    "    for _ in range(len(all_thread)):\n",
    "        result.append(q.get())\n",
    "    \n",
    "    print(result)\n",
    "    \n",
    "multithread()"
   ]
  },
  {
   "cell_type": "code",
   "execution_count": 4,
   "metadata": {},
   "outputs": [
    {
     "name": "stdout",
     "output_type": "stream",
     "text": [
      "This is the first thread  1\n",
      "This is the first thread  2\n",
      "This is the first thread  3\n",
      "This is the second thread  2\n",
      "This is the second thread  1\n",
      "This is the second thread  0\n"
     ]
    }
   ],
   "source": [
    "import threading\n",
    "\n",
    "def thread_first_job():\n",
    "    global a, lock\n",
    "    \n",
    "    # 取得 lock\n",
    "    lock.acquire()\n",
    "    for _ in range(3):\n",
    "        a += 1\n",
    "        print('This is the first thread ', a)\n",
    "        \n",
    "    # 釋放 lock\n",
    "    lock.release()\n",
    "    \n",
    "def thread_second_job():\n",
    "    global a, lock\n",
    "    \n",
    "    # 取得 Lock\n",
    "    lock.acquire()\n",
    "    for _ in range(3):\n",
    "        a -= 1\n",
    "        print('This is the second thread ', a)\n",
    "        \n",
    "    # 釋放 Lock\n",
    "    lock.release()\n",
    "\n",
    "a = 0\n",
    "lock = threading.Lock()\n",
    "first_thread = threading.Thread(target = thread_first_job)\n",
    "second_thread = threading.Thread(target = thread_second_job)\n",
    "\n",
    "first_thread.start()\n",
    "second_thread.start()\n",
    "first_thread.join()\n",
    "second_thread.join()"
   ]
  },
  {
   "cell_type": "code",
   "execution_count": 27,
   "metadata": {},
   "outputs": [
    {
     "name": "stdout",
     "output_type": "stream",
     "text": [
      "This is the first thread  1 \n",
      "\n",
      "This is the second thread  0 \n",
      "\n",
      "This is the second thread  -1 \n",
      "\n",
      "This is the second thread  -2 \n",
      "\n",
      "This is the first thread  -1 \n",
      "\n",
      "This is the first thread  0 \n",
      "\n"
     ]
    }
   ],
   "source": [
    "import threading\n",
    "\n",
    "def thread_first_job():\n",
    "    global a\n",
    "    \n",
    "    # 取得旗標\n",
    "    semaphore.acquire()\n",
    "    for _ in range(3):\n",
    "        a += 1\n",
    "        print('This is the first thread ', a, '\\n')\n",
    "        \n",
    "    # 釋放旗標\n",
    "    semaphore.release()\n",
    "    \n",
    "def thread_second_job():\n",
    "    global a\n",
    "    \n",
    "    # 取得旗標\n",
    "    semaphore.acquire()\n",
    "    for _ in range(3):\n",
    "        a -= 1\n",
    "        print('This is the second thread ', a, '\\n')\n",
    "        \n",
    "    # 釋放旗標\n",
    "    semaphore.release()\n",
    "\n",
    "a = 0\n",
    "semaphore = threading.Semaphore(2)\n",
    "first_thread = threading.Thread(target = thread_first_job)\n",
    "second_thread = threading.Thread(target = thread_second_job)\n",
    "\n",
    "first_thread.start()\n",
    "second_thread.start()\n",
    "first_thread.join()\n",
    "second_thread.join()"
   ]
  },
  {
   "cell_type": "code",
   "execution_count": 3,
   "metadata": {},
   "outputs": [],
   "source": [
    "import threading\n",
    "\n",
    "rlock = threading.RLock()\n",
    "rlock.acquire()\n",
    "rlock.acquire()\n",
    "\n",
    "rlock.release()\n",
    "rlock.release()"
   ]
  },
  {
   "cell_type": "code",
   "execution_count": 6,
   "metadata": {},
   "outputs": [
    {
     "data": {
      "text/plain": [
       "True"
      ]
     },
     "execution_count": 6,
     "metadata": {},
     "output_type": "execute_result"
    }
   ],
   "source": [
    "lock = threading.Lock()\n",
    "\n",
    "# 取得 Lock\n",
    "lock.acquire()\n",
    "\n",
    "# 重複取得 Lock 的時候，就被擋住！\n",
    "# lock.acquire()"
   ]
  },
  {
   "cell_type": "code",
   "execution_count": 1,
   "metadata": {},
   "outputs": [
    {
     "name": "stdout",
     "output_type": "stream",
     "text": [
      "Acquire the condition lock\n",
      "Wait...\n",
      "Notify to wake up...\n",
      "This is the first thread  2\n",
      "This is the first thread  3\n",
      "This is the first thread  4\n"
     ]
    }
   ],
   "source": [
    "import threading\n",
    "\n",
    "def thread_first_job():\n",
    "    global a, cond\n",
    "    \n",
    "    # 取得 lock\n",
    "    cond.acquire()\n",
    "    print(\"Acquire the condition lock\")\n",
    "    \n",
    "    if a == 0:\n",
    "        print(\"Wait...\")\n",
    "        cond.wait()\n",
    "    \n",
    "    \n",
    "    print(\"Notify to wake up...\")\n",
    "    cond.notify()\n",
    "    \n",
    "    for _ in range(3):\n",
    "        a += 1\n",
    "        print('This is the first thread ', a)\n",
    "        \n",
    "    # 釋放 lock\n",
    "    cond.release()\n",
    "    \n",
    "def thread_second_job():\n",
    "    global a, cond\n",
    "    \n",
    "    # 取得 lock\n",
    "    cond.acquire()\n",
    "    \n",
    "    # 喚醒執行緒\n",
    "    cond.notify()\n",
    "    a += 1\n",
    "    \n",
    "    # 釋放 lock\n",
    "    cond.release()\n",
    "\n",
    "a = 0\n",
    "cond = threading.Condition()\n",
    "\n",
    "first_thread = threading.Thread(target = thread_first_job)\n",
    "second_thread = threading.Thread(target = thread_second_job)\n",
    "\n",
    "first_thread.start()\n",
    "second_thread.start()\n",
    "first_thread.join()\n",
    "second_thread.join()"
   ]
  },
  {
   "cell_type": "code",
   "execution_count": 6,
   "metadata": {},
   "outputs": [
    {
     "name": "stdout",
     "output_type": "stream",
     "text": [
      "Wait...\n",
      "Wake up the thread...\n",
      "This is the first thread  1\n",
      "This is the first thread  2\n",
      "This is the first thread  3\n"
     ]
    }
   ],
   "source": [
    "import threading\n",
    "import time\n",
    "\n",
    "def thread_first_job():\n",
    "    global a\n",
    "    \n",
    "    # 執行緒進入等待狀況\n",
    "    print(\"Wait...\")\n",
    "    event.wait()\n",
    "    \n",
    "    for _ in range(3):\n",
    "        a += 1\n",
    "        print('This is the first thread ', a)\n",
    "\n",
    "\n",
    "a = 0\n",
    "# 創建 event\n",
    "event = threading.Event()\n",
    "\n",
    "first_thread = threading.Thread(target = thread_first_job)\n",
    "\n",
    "first_thread.start()\n",
    "\n",
    "time.sleep(3)\n",
    "\n",
    "# 喚醒處於等待狀態的執行緒\n",
    "print(\"Wake up the thread...\")\n",
    "event.set()\n",
    "\n",
    "first_thread.join()\n"
   ]
  },
  {
   "cell_type": "code",
   "execution_count": null,
   "metadata": {},
   "outputs": [],
   "source": []
  }
 ],
 "metadata": {
  "kernelspec": {
   "display_name": "Python 3",
   "language": "python",
   "name": "python3"
  },
  "language_info": {
   "codemirror_mode": {
    "name": "ipython",
    "version": 3
   },
   "file_extension": ".py",
   "mimetype": "text/x-python",
   "name": "python",
   "nbconvert_exporter": "python",
   "pygments_lexer": "ipython3",
   "version": "3.8.8"
  }
 },
 "nbformat": 4,
 "nbformat_minor": 2
}
